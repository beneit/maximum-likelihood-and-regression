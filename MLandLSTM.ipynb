{
 "cells": [
  {
   "cell_type": "code",
   "execution_count": 1,
   "metadata": {
    "slideshow": {
     "slide_type": "skip"
    }
   },
   "outputs": [],
   "source": [
    "%matplotlib inline\n",
    "\n",
    "import numpy as np\n",
    "import pandas as pd\n",
    "import matplotlib.pyplot as plt\n",
    "import seaborn as sns"
   ]
  },
  {
   "cell_type": "markdown",
   "metadata": {},
   "source": [
    "# Maximum Likelihood and Regression\n",
    "\n",
    "This notebook explains exemplarily on a simple weather monitoring use case the concepts of maximum likelihood with respect to regressive models. We touch on the concepts of non-analytical parameter optimization, non-linear model regression such as neural networks and the utility of recurrent neural network architectures when it comes to time series prediction. "
   ]
  },
  {
   "cell_type": "markdown",
   "metadata": {
    "slideshow": {
     "slide_type": "slide"
    }
   },
   "source": [
    "* [1. Maximum Likelihood](#MaximumLikelihood)\n",
    "* [2. Regression](#Regression)\n",
    " * [2.1 Linear and non-linear regression](#NeuralNetworks)\n",
    "* [3. Long-Short Term Memory Networks](#LSTM)\n"
   ]
  },
  {
   "cell_type": "markdown",
   "metadata": {
    "slideshow": {
     "slide_type": "subslide"
    }
   },
   "source": [
    "Let us load some temperature data we recorded between 14:00-15:00 and plot a Histogram"
   ]
  },
  {
   "cell_type": "code",
   "execution_count": 2,
   "metadata": {
    "slideshow": {
     "slide_type": "fragment"
    }
   },
   "outputs": [
    {
     "data": {
      "image/png": "[encoded data removed]",
      "text/plain": [
       "<matplotlib.figure.Figure at 0x2d85c1ff978>"
      ]
     },
     "metadata": {},
     "output_type": "display_data"
    }
   ],
   "source": [
    "temp_afternoon = np.load(\"data/temperature_constant.npy\")\n",
    "\n",
    "fig, ax = plt.subplots()\n",
    "ax.set_title(\"Temperature between 14:00-15:00\")\n",
    "n, bins, patches = ax.hist(temp_afternoon, facecolor='green')\n",
    "\n"
   ]
  },
  {
   "cell_type": "markdown",
   "metadata": {
    "slideshow": {
     "slide_type": "slide"
    }
   },
   "source": [
    "**Typical Questions**:\n",
    " * *How is the temperature distributed?*\n",
    "\n",
    " * *What can I be expected to measure next with what probabilities?*"
   ]
  },
  {
   "cell_type": "markdown",
   "metadata": {
    "slideshow": {
     "slide_type": "fragment"
    }
   },
   "source": [
    "**Assumption**:\n",
    "\n",
    "Data is distributed according to a Gaussian distribution (There is some motivation for this):\n",
    "\n",
    "$$T_i\\sim p(y\\ |\\ \\mu,\\sigma)=\\frac{1}{\\sqrt{2\\pi\\sigma^2}}\\exp\\left(-\\frac{\\left(y-\\mu\\right)^2}{2\\sigma^2}\\right)$$\n",
    "\n",
    "The Gaussian distribution has *two* free parameters, $\\mu$ and $\\sigma$ that have to be determined somehow"
   ]
  },
  {
   "cell_type": "markdown",
   "metadata": {
    "slideshow": {
     "slide_type": "slide"
    }
   },
   "source": [
    "## Maximum Likelihood<a name=\"MaximumLikelihood\"></a>\n",
    "Probability density for each datapoint that this could have been measured given that the model is true.\n",
    "\n",
    "* Measure $N$ times and collect the dataset: $\\mathbf{Y}=\\{T_i, i=1\\ldots N\\}$\n",
    "* Each observation is independent from all other observations\n",
    "* All observations are assumed to originate from the same mechanism\n",
    "* (independetly, identically distributed, i.i.d) $\\rightarrow$The total probability density is the product of each individual observation:\n",
    "$$p(Y\\ |\\ \\theta)=\\prod_{i=1}^N p(T_i\\ |\\ \\mu,\\sigma)$$\n",
    "Where $\\theta$ is the set of free parameter, in this case $\\theta=\\{\\mu, \\sigma^2\\}$"
   ]
  },
  {
   "cell_type": "markdown",
   "metadata": {
    "slideshow": {
     "slide_type": "slide"
    }
   },
   "source": [
    "Maximum Likelihood just maximizes this number with respect to $\\theta$ and in general, there are a lot of ways this can be done. This is part of optimization. For simpler mathematics and reasons of numerical stability, one minimizes the negative log-likelihood instead of the likelihood function (also *Loss* or *Error*-function):\n",
    "$$L(\\theta\\ |\\ \\mathbf Y)=-2\\log\\left(p(Y\\ |\\ \\theta)\\right)=\\frac{1}{\\sigma^2}\\sum_{i=1}^N\\left\\|T_i-\\mu\\right\\|^2 + N\\log(2\\pi\\sigma^2)$$"
   ]
  },
  {
   "cell_type": "markdown",
   "metadata": {
    "slideshow": {
     "slide_type": "fragment"
    }
   },
   "source": [
    "Maximum Likelihood is then:\n",
    "\n",
    "$$\\theta^*=\\underset{\\theta}{\\mathrm{argmax}}\\left(P(Y\\ |\\ \\theta)\\right)=\\underset{\\theta}{\\mathrm{argmin}}\\left(L(\\theta\\ |\\ \\mathbf Y)\\right)$$"
   ]
  },
  {
   "cell_type": "markdown",
   "metadata": {
    "slideshow": {
     "slide_type": "slide"
    }
   },
   "source": [
    "In this case we can optimize analytically, by taking the derivatives with respect to $\\mu$ and $\\sigma^2$ which will give us the empirical mean and variance of the distribution (Who would have thought?):\n",
    "\n",
    "$$0=\\frac{\\partial L}{\\partial \\mu}\\Leftrightarrow \\mu=\\frac{1}{N}\\sum_{i=1}^N T_i\\equiv\\bar T$$\n",
    "$$0=\\frac{\\partial L}{\\partial \\sigma^2}\\Leftrightarrow \\sigma^2=\\frac{1}{N}\\sum_{i=1}^N (T_i-\\bar T)^2$$"
   ]
  },
  {
   "cell_type": "markdown",
   "metadata": {
    "slideshow": {
     "slide_type": "fragment"
    }
   },
   "source": [
    "We can now visually inspect the results:"
   ]
  },
  {
   "cell_type": "code",
   "execution_count": 3,
   "metadata": {
    "slideshow": {
     "slide_type": "slide"
    }
   },
   "outputs": [
    {
     "name": "stdout",
     "output_type": "stream",
     "text": [
      "Mean=23.20°C, Std=0.51°C, [Ground truth generated: 23.2, 0.5]\n"
     ]
    },
    {
     "data": {
      "image/png": "[encoded data removed]",
      "text/plain": [
       "<matplotlib.figure.Figure at 0x2d84c99fe80>"
      ]
     },
     "metadata": {},
     "output_type": "display_data"
    }
   ],
   "source": [
    "temperature_mean = temp_afternoon.mean()\n",
    "temperature_std = temp_afternoon.std()\n",
    "from scipy.stats import norm\n",
    "\n",
    "fig, ax = plt.subplots()\n",
    "ax.set_title(\"Temperature between 14:00-15:00\")\n",
    "ax.set_xlabel(\"T[°C]\")\n",
    "n, bins, patches = ax.hist(temp_afternoon, facecolor='green', density=True)\n",
    "\n",
    "t_scale = np.linspace(ax.axis()[0], ax.axis()[1], 100)\n",
    "ax.plot(t_scale, norm.pdf(t_scale, temperature_mean, temperature_std), color=\"darkred\")\n",
    "\n",
    "print(\"Mean={0:#.4g}°C, Std={1:#.2g}°C, [Ground truth generated: 23.2, 0.5]\".format(temperature_mean, temperature_std))"
   ]
  },
  {
   "cell_type": "markdown",
   "metadata": {
    "slideshow": {
     "slide_type": "slide"
    }
   },
   "source": [
    "## Regression\n",
    "\n",
    "We now install a temperature sensor and record for three days:"
   ]
  },
  {
   "cell_type": "code",
   "execution_count": 4,
   "metadata": {
    "slideshow": {
     "slide_type": "fragment"
    }
   },
   "outputs": [
    {
     "data": {
      "image/png": "[encoded data removed]",
      "text/plain": [
       "<matplotlib.figure.Figure at 0x2d85e304588>"
      ]
     },
     "metadata": {},
     "output_type": "display_data"
    }
   ],
   "source": [
    "df = pd.read_csv(\"data/temperature_day.csv\")\n",
    "\n",
    "fig, ax = plt.subplots()\n",
    "ax.set_title(\"3-day temperature survey\")\n",
    "ax.set_xlabel(\"T[°C]\")\n",
    "n, bins, patches = ax.hist(df.temperature, facecolor='green', density=False)"
   ]
  },
  {
   "cell_type": "markdown",
   "metadata": {
    "slideshow": {
     "slide_type": "fragment"
    }
   },
   "source": [
    "Hmmm... This is not good, it doesn't look gaussian at all, the temperature changed all over the place during the day-night-cycle.\n",
    "\n",
    "[//]: # (We could maybe fit a uniform distribution, but this is not really what we want, because it is very uninformative: We will only be able to answer questions regarding the day as a whole, but not with regards to specific times and weather conditions.)\n"
   ]
  },
  {
   "cell_type": "markdown",
   "metadata": {
    "slideshow": {
     "slide_type": "slide"
    }
   },
   "source": [
    "There is bad news and good news:\n",
    "1. The bad; unfortunately, we forgot to record the time of day the temperature was measured.\n",
    "2. However, our sensor also recorded the light intensity, so we could use that to infer some additional information.\n",
    "\n",
    "Lets do a scatter-plot..."
   ]
  },
  {
   "cell_type": "code",
   "execution_count": 5,
   "metadata": {
    "slideshow": {
     "slide_type": "slide"
    }
   },
   "outputs": [
    {
     "data": {
      "image/png": "[encoded data removed]",
      "text/plain": [
       "<matplotlib.figure.Figure at 0x2d85f3a5668>"
      ]
     },
     "metadata": {},
     "output_type": "display_data"
    }
   ],
   "source": [
    "fig, ax = plt.subplots()\n",
    "ax.set_title(\"2-d Scatterplot\")\n",
    "ax.set_xlabel(\"Luminosity\")\n",
    "ax.set_ylabel(\"Temperature [°C]\")\n",
    "\n",
    "_ = ax.plot(df.luminosity, df.temperature, 'o', ms=0.8, color=\"black\")\n"
   ]
  },
  {
   "cell_type": "markdown",
   "metadata": {
    "slideshow": {
     "slide_type": "fragment"
    }
   },
   "source": [
    "We notice two things:\n",
    "1. A clear functional dependecy is visible\n",
    "2. Beside this dependency, there still is the kind of \"noise\" we have seen before when we just recorded for one hour"
   ]
  },
  {
   "cell_type": "markdown",
   "metadata": {
    "slideshow": {
     "slide_type": "slide"
    }
   },
   "source": [
    "**Idea:**\n",
    "Model the gaussian parameter not as a constant, but instead as a function of the *independent* variable.\n",
    "* Independent variable ($x$): Luminosity\n",
    "* Dependent variable ($y$): Temperature\n",
    "* Regression function: $f:x\\mapsto(\\mu,\\sigma)$"
   ]
  },
  {
   "cell_type": "markdown",
   "metadata": {
    "slideshow": {
     "slide_type": "fragment"
    }
   },
   "source": [
    "\n",
    "Often, we have no reason to suspect that $\\sigma$ should also depend on $x$, so we set it constant.\n",
    "For $\\mu$, we could do a linear regression, that would look like this:\n",
    "\n",
    "$$\\mu(x)=Ax+b$$"
   ]
  },
  {
   "cell_type": "markdown",
   "metadata": {
    "slideshow": {
     "slide_type": "slide"
    }
   },
   "source": [
    "Because the dependency isn't really linear we might just add some more terms (polynomial regression)\n",
    "$$\\mu(x)=ax^3+bx^2+cx+d$$"
   ]
  },
  {
   "cell_type": "markdown",
   "metadata": {
    "slideshow": {
     "slide_type": "-"
    }
   },
   "source": [
    "Here, $\\theta=\\{a,b,c,d,\\sigma\\}$."
   ]
  },
  {
   "cell_type": "markdown",
   "metadata": {
    "slideshow": {
     "slide_type": "fragment"
    }
   },
   "source": [
    "Can we still find $\\theta^*$ analytically like before?"
   ]
  },
  {
   "cell_type": "markdown",
   "metadata": {
    "slideshow": {
     "slide_type": "fragment"
    }
   },
   "source": [
    "- Yes, because everything is linear ($\\mu$ linear to $a,b,c,d$). We just have to take some more derivatives."
   ]
  },
  {
   "cell_type": "markdown",
   "metadata": {
    "slideshow": {
     "slide_type": "fragment"
    }
   },
   "source": [
    "There will be a linear system of eqations that can be solved for $a,b,c,d$ and $\\sigma^2=\\frac{1}{N}\\sum_{i=1}^N (y_i-\\bar y)^2$ as before, with $\\bar y = \\frac{1}{N}\\sum_{i=1}^N ax_i^3+bx_i^2+cx_i+d$"
   ]
  },
  {
   "cell_type": "markdown",
   "metadata": {
    "slideshow": {
     "slide_type": "slide"
    }
   },
   "source": [
    "Just to see some numerical optimization at work, use scipy.optimize"
   ]
  },
  {
   "cell_type": "code",
   "execution_count": 6,
   "metadata": {
    "slideshow": {
     "slide_type": "-"
    }
   },
   "outputs": [
    {
     "name": "stdout",
     "output_type": "stream",
     "text": [
      "Optimization terminated successfully.\n",
      "         Current function value: 692.849345\n",
      "         Iterations: 230\n",
      "         Function evaluations: 396\n",
      "theta*=[ -1.30586224e+00   9.37019628e-01  -2.07691803e-02   2.03658979e-04]\n"
     ]
    }
   ],
   "source": [
    "from scipy.optimize import fmin\n",
    "\n",
    "# number of terms in the polynomial\n",
    "n_poly = 4\n",
    "\n",
    "mu_function = lambda theta, x: np.sum(np.array([theta[i]*x**i for i in range(n_poly)]), axis=0)\n",
    "loss_function = lambda theta, x, y: np.sum((y - mu_function(theta, x))**2)\n",
    "\n",
    "theta_star = np.zeros(n_poly)\n",
    "results = fmin(loss_function, theta_star, args=(df.luminosity.values, df.temperature.values), full_output=1)\n",
    "\n",
    "theta_star = results[0]\n",
    "print(\"theta*={0}\".format(theta_star))"
   ]
  },
  {
   "cell_type": "code",
   "execution_count": 7,
   "metadata": {
    "scrolled": true,
    "slideshow": {
     "slide_type": "slide"
    }
   },
   "outputs": [
    {
     "data": {
      "image/png": "[encoded data removed]",
      "text/plain": [
       "<matplotlib.figure.Figure at 0x2d85f428908>"
      ]
     },
     "metadata": {},
     "output_type": "display_data"
    }
   ],
   "source": [
    "# Replot scatterplot\n",
    "fig, ax = plt.subplots()\n",
    "ax.set_title(\"2-d Scatterplot\")\n",
    "ax.set_xlabel(\"Luminosity\")\n",
    "ax.set_ylabel(\"Temperature [°C]\")\n",
    "\n",
    "_ = ax.plot(df.luminosity, df.temperature, 'o', ms=0.8, color=\"black\")\n",
    "\n",
    "l_scale = np.linspace(ax.axis()[0], ax.axis()[1], 100)\n",
    "_ = ax.plot(l_scale, mu_function(theta_star, l_scale))"
   ]
  },
  {
   "cell_type": "markdown",
   "metadata": {
    "slideshow": {
     "slide_type": "slide"
    }
   },
   "source": [
    "Now, we can also check our histogram and see if we can get a good fit with the Gaussian distribution"
   ]
  },
  {
   "cell_type": "code",
   "execution_count": 8,
   "metadata": {
    "slideshow": {
     "slide_type": "fragment"
    }
   },
   "outputs": [
    {
     "name": "stdout",
     "output_type": "stream",
     "text": [
      "Mean=-0.044°C, Std=0.98°C, [Ground thruth generated: Std=0.5]\n"
     ]
    },
    {
     "data": {
      "image/png": "[encoded data removed]",
      "text/plain": [
       "<matplotlib.figure.Figure at 0x2d85f47fac8>"
      ]
     },
     "metadata": {},
     "output_type": "display_data"
    }
   ],
   "source": [
    "fig, ax = plt.subplots()\n",
    "ax.set_title(\"3-day temperature survey; difference\")\n",
    "ax.set_xlabel(\"T[°C]\")\n",
    "temperature_difference = df.temperature.values - mu_function(theta_star, df.luminosity.values)\n",
    "n, bins, patches = ax.hist(temperature_difference, facecolor='green', density=True)\n",
    "\n",
    "temperature_mean = np.mean(temperature_difference)\n",
    "temperature_std = np.sqrt(np.mean(temperature_difference**2))\n",
    "t_scale = np.linspace(ax.axis()[0], ax.axis()[1], 100)\n",
    "ax.plot(t_scale, norm.pdf(t_scale, 0, temperature_std), color=\"darkred\")\n",
    "\n",
    "print(\"Mean={0:#.2g}°C, Std={1:#.2g}°C, [Ground thruth generated: Std=0.5]\".format(temperature_mean, temperature_std))"
   ]
  },
  {
   "cell_type": "markdown",
   "metadata": {
    "slideshow": {
     "slide_type": "slide"
    }
   },
   "source": [
    "There is at least two reasons why we will have a hard time matching the true variance from the generative process in the model:\n",
    "1. Our regression model inadequatily addresses the underlying process\n",
    "2. Our independent variable (Luminosity) is itself an imperfect measurement $\\rightarrow$ additional variance"
   ]
  },
  {
   "cell_type": "markdown",
   "metadata": {
    "slideshow": {
     "slide_type": "fragment"
    }
   },
   "source": [
    "### Linear and non-linear regression <a name=\"NeuralNetworks\"></a>\n",
    "**Neural Networks**\n",
    "\n",
    "The first problem can sometimes be aleviated with the help of a neural network, because a neural network can theoretically approximate any function, and does so in practice much better than just adding more terms to a polynomial regression. Polynomial regression tends to go crazy between the data points very quickly if the number of free parameter gets larger (approaches the number of data points) where as neural networks have a easier time to \"generalize\"; Giving reasonable predictions even between data points."
   ]
  },
  {
   "cell_type": "markdown",
   "metadata": {
    "slideshow": {
     "slide_type": "slide"
    }
   },
   "source": [
    "A feed-forward neural network always alternates between linear transformation (affine transformations) and non-linearity given by some scalar (differentiable) function $g$:\n",
    "\n",
    "$$f(x\\ |\\ \\theta)= \\ldots b^{(1)} + A^{(1)}g\\left(b^{(0)} + A^{(0)}x\\right)$$\n",
    "\n",
    "Here, $\\theta$ is the set of all free parameters of the affine transformations of all the layers."
   ]
  },
  {
   "cell_type": "markdown",
   "metadata": {
    "slideshow": {
     "slide_type": "fragment"
    }
   },
   "source": [
    "Because $g$ is non-linear - unlike the polynomial case - it is not possible to optimize the parameter analytically. Instead, usually some kind of gradient descent algorithm is used in an iterative optimization process:\n",
    "\n",
    "$$\\theta_{i+1}=\\theta_i - \\gamma \\frac{\\partial L}{\\partial\\theta_i}$$\n",
    "\n",
    "This is possible because the neural network function $f$ is differentiable (almost) everywhere."
   ]
  },
  {
   "cell_type": "markdown",
   "metadata": {
    "slideshow": {
     "slide_type": "slide"
    }
   },
   "source": [
    "## Long-Short Term Memory Neural Network<a name=\"LSTM\"></a>\n",
    "\n",
    "What if we don't want to predict the current temperature, but instead want to know the temperature at a later (or earlier) time? Lets take a look at the time-series:"
   ]
  },
  {
   "cell_type": "code",
   "execution_count": 9,
   "metadata": {
    "slideshow": {
     "slide_type": "fragment"
    }
   },
   "outputs": [
    {
     "data": {
      "image/png": "[encoded data removed]",
      "text/plain": [
       "<matplotlib.figure.Figure at 0x2d85f4a4080>"
      ]
     },
     "metadata": {},
     "output_type": "display_data"
    }
   ],
   "source": [
    "fig, ax = plt.subplots()\n",
    "ax.set_title(\"3-day temperature survey - timeseries\")\n",
    "\n",
    "_ = ax.plot(df.hours, df.temperature, '-s', ms=0.4, color=\"black\")"
   ]
  },
  {
   "cell_type": "markdown",
   "metadata": {
    "slideshow": {
     "slide_type": "slide"
    }
   },
   "source": [
    "A regression would then look something like this:\n",
    "* Possible Independent Variables: $T_i$, $L_i$\n",
    "* Dependent Variable: $T_{i+d}$ with some number $d$."
   ]
  },
  {
   "cell_type": "markdown",
   "metadata": {
    "slideshow": {
     "slide_type": "fragment"
    }
   },
   "source": [
    "Problem is that there is a falling and a rising flank, therefore the next point can not be predicted just given the previous datum. In general, there could be a lot more different kind of patterns and information from the past that is relevant to predict the future to the best of our knowledge."
   ]
  },
  {
   "cell_type": "markdown",
   "metadata": {
    "slideshow": {
     "slide_type": "fragment"
    }
   },
   "source": [
    "**LSTM** (or any kind of recurrent neural network) just feeds forward some past information to the current iteration of  a prediction process that is recurrent in time (Start at the beginning, and go through the time-series). Therefore, the parametric function that models the Gauss-parameter looks like this:\n",
    "\n",
    "$$(\\mu_{i+d}, \\sigma_{i+d}, s_{i+1}) = f(x_i, s_i)$$\n",
    "\n",
    "Where $s_i$ is the current state"
   ]
  },
  {
   "cell_type": "code",
   "execution_count": null,
   "metadata": {},
   "outputs": [],
   "source": []
  }
 ],
 "metadata": {
  "celltoolbar": "Slideshow",
  "kernelspec": {
   "display_name": "Python 3",
   "language": "python",
   "name": "python3"
  },
  "language_info": {
   "codemirror_mode": {
    "name": "ipython",
    "version": 3
   },
   "file_extension": ".py",
   "mimetype": "text/x-python",
   "name": "python",
   "nbconvert_exporter": "python",
   "pygments_lexer": "ipython3",
   "version": "3.6.2"
  }
 },
 "nbformat": 4,
 "nbformat_minor": 2
}
